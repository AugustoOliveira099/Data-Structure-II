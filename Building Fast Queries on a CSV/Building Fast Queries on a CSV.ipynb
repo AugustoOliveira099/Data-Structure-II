{
 "cells": [
  {
   "cell_type": "markdown",
   "id": "f4eb3aa0",
   "metadata": {},
   "source": [
    "# Building Fast Queries on a CSV\n",
    "## Reading the Inventory"
   ]
  },
  {
   "cell_type": "code",
   "execution_count": 1,
   "id": "ba6f05bf",
   "metadata": {},
   "outputs": [
    {
     "name": "stdout",
     "output_type": "stream",
     "text": [
      "['laptop_ID', 'Company', 'Product', 'TypeName', 'Inches', 'ScreenResolution', 'Cpu', 'Ram', 'Memory', 'Gpu', 'OpSys', 'Weight', 'Price_euros']\n",
      "\n",
      "\n",
      "['1', 'Apple', 'MacBook Pro', 'Ultrabook', '13.3', 'IPS Panel Retina Display 2560x1600', 'Intel Core i5 2.3GHz', '8GB', '128GB SSD', 'Intel Iris Plus Graphics 640', 'macOS', '1.37kg', '1339.69']\n",
      "['2', 'Apple', 'Macbook Air', 'Ultrabook', '13.3', '1440x900', 'Intel Core i5 1.8GHz', '8GB', '128GB Flash Storage', 'Intel HD Graphics 6000', 'macOS', '1.34kg', '898.94']\n",
      "['3', 'HP', '250 G6', 'Notebook', '15.6', 'Full HD 1920x1080', 'Intel Core i5 7200U 2.5GHz', '8GB', '256GB SSD', 'Intel HD Graphics 620', 'No OS', '1.86kg', '575.00']\n",
      "['4', 'Apple', 'MacBook Pro', 'Ultrabook', '15.4', 'IPS Panel Retina Display 2880x1800', 'Intel Core i7 2.7GHz', '16GB', '512GB SSD', 'AMD Radeon Pro 455', 'macOS', '1.83kg', '2537.45']\n",
      "['5', 'Apple', 'MacBook Pro', 'Ultrabook', '13.3', 'IPS Panel Retina Display 2560x1600', 'Intel Core i5 3.1GHz', '8GB', '256GB SSD', 'Intel Iris Plus Graphics 650', 'macOS', '1.37kg', '1803.60']\n"
     ]
    }
   ],
   "source": [
    "import csv\n",
    "\n",
    "with open('laptops.csv') as f:\n",
    "    reader = csv.reader(f)\n",
    "    rows = list(reader)\n",
    "header = rows[0]\n",
    "rows = rows[1:]\n",
    "    \n",
    "print(header)\n",
    "print('\\n')\n",
    "for i in range(5):\n",
    "    print(rows[i])"
   ]
  },
  {
   "cell_type": "markdown",
   "id": "a43955bb",
   "metadata": {},
   "source": [
    "## Inventory Class"
   ]
  },
  {
   "cell_type": "code",
   "execution_count": 2,
   "id": "a6bc77bd",
   "metadata": {},
   "outputs": [
    {
     "name": "stdout",
     "output_type": "stream",
     "text": [
      "['laptop_ID', 'Company', 'Product', 'TypeName', 'Inches', 'ScreenResolution', 'Cpu', 'Ram', 'Memory', 'Gpu', 'OpSys', 'Weight', 'Price_euros']\n",
      "1303\n"
     ]
    }
   ],
   "source": [
    "class Inventory():                    \n",
    "    \n",
    "    def __init__(self, csv_filename): \n",
    "        with open(csv_filename) as f: \n",
    "            reader = csv.reader(f)\n",
    "            rows = list(reader)\n",
    "        self.header = rows[0]         \n",
    "        self.rows = rows[1:]\n",
    "        for row in self.rows:\n",
    "            row[-1] = int(float(row[-1]))\n",
    "\n",
    "inventory = Inventory('laptops.csv')  \n",
    "print(inventory.header)            \n",
    "print(len(inventory.rows))            "
   ]
  },
  {
   "cell_type": "markdown",
   "id": "f449084a",
   "metadata": {},
   "source": [
    "## Finding a Laptop From the Id"
   ]
  },
  {
   "cell_type": "code",
   "execution_count": 3,
   "id": "d5863e12",
   "metadata": {},
   "outputs": [],
   "source": [
    "class Inventory():                    \n",
    "    \n",
    "    def __init__(self, csv_filename): \n",
    "        with open(csv_filename) as f: \n",
    "            reader = csv.reader(f)\n",
    "            rows = list(reader)\n",
    "        self.header = rows[0]         \n",
    "        self.rows = rows[1:]\n",
    "        for row in self.rows:\n",
    "            row[-1] = int(float(row[-1]))\n",
    "            \n",
    "    def get_laptop_from_id(self, laptop_id):   \n",
    "        for row in self.rows:                  \n",
    "            if row[0] == laptop_id:\n",
    "                return row\n",
    "        return None"
   ]
  },
  {
   "cell_type": "code",
   "execution_count": 4,
   "id": "7193ad7f",
   "metadata": {},
   "outputs": [
    {
     "name": "stdout",
     "output_type": "stream",
     "text": [
      "['1300', 'HP', 'Stream 11-Y000na', 'Netbook', '11.6', '1366x768', 'Intel Celeron Dual Core N3060 1.6GHz', '2GB', '32GB Flash Storage', 'Intel HD Graphics 400', 'Windows 10', '1.17kg', 209]\n",
      "None\n"
     ]
    }
   ],
   "source": [
    "inventory = Inventory('laptops.csv')         \n",
    "print(inventory.get_laptop_from_id('1300')) \n",
    "print(inventory.get_laptop_from_id('3563'))"
   ]
  },
  {
   "cell_type": "markdown",
   "id": "8fa0b256",
   "metadata": {},
   "source": [
    "## Improving Id Lookups"
   ]
  },
  {
   "cell_type": "code",
   "execution_count": 5,
   "id": "9235d1ad",
   "metadata": {},
   "outputs": [],
   "source": [
    "class Inventory():                    \n",
    "    \n",
    "    def __init__(self, csv_filename): \n",
    "        with open(csv_filename) as f: \n",
    "            reader = csv.reader(f)\n",
    "            rows = list(reader)\n",
    "        self.header = rows[0]         \n",
    "        self.rows = rows[1:]\n",
    "        for row in self.rows:\n",
    "            row[-1] = int(float(row[-1]))\n",
    "        self.id_to_row = {}                      \n",
    "        for row in self.rows:                       \n",
    "            self.id_to_row[row[0]] = row \n",
    "            \n",
    "    def get_laptop_from_id(self, laptop_id):   \n",
    "        for row in self.rows:                  \n",
    "            if row[0] == laptop_id:\n",
    "                return row\n",
    "        return None  \n",
    "    \n",
    "    def get_laptop_from_id_fast(self, laptop_id):  \n",
    "        if laptop_id in self.id_to_row:             \n",
    "            return self.id_to_row[laptop_id]\n",
    "        return None"
   ]
  },
  {
   "cell_type": "markdown",
   "id": "0d990857",
   "metadata": {},
   "source": [
    "### Test the code:"
   ]
  },
  {
   "cell_type": "code",
   "execution_count": 6,
   "id": "a14406fc",
   "metadata": {},
   "outputs": [
    {
     "name": "stdout",
     "output_type": "stream",
     "text": [
      "['1300', 'HP', 'Stream 11-Y000na', 'Netbook', '11.6', '1366x768', 'Intel Celeron Dual Core N3060 1.6GHz', '2GB', '32GB Flash Storage', 'Intel HD Graphics 400', 'Windows 10', '1.17kg', 209]\n",
      "None\n"
     ]
    }
   ],
   "source": [
    "inventory = Inventory('laptops.csv')           \n",
    "print(inventory.get_laptop_from_id('1300'))\n",
    "print(inventory.get_laptop_from_id('3563'))"
   ]
  },
  {
   "cell_type": "markdown",
   "id": "8e8ab5d9",
   "metadata": {},
   "source": [
    "## Comparing Performance"
   ]
  },
  {
   "cell_type": "code",
   "execution_count": 7,
   "id": "b75cfbaa",
   "metadata": {},
   "outputs": [
    {
     "name": "stdout",
     "output_type": "stream",
     "text": [
      "0.7950553894042969\n",
      "0.001999378204345703\n"
     ]
    }
   ],
   "source": [
    "import time                                                         \n",
    "import random                                                       \n",
    "\n",
    "ids = [str(random.randint(1, 5000)) for _ in range(10000)] # step 3\n",
    "\n",
    "inventory = Inventory('laptops.csv')                                \n",
    "\n",
    "total_time_no_dict = 0                                              \n",
    "for identifier in ids:                                              \n",
    "    start = time.time()                                             \n",
    "    inventory.get_laptop_from_id(identifier)                        \n",
    "    end = time.time()                                               \n",
    "    total_time_no_dict += end - start                              \n",
    "    \n",
    "total_time_dict = 0                                                 \n",
    "for identifier in ids:                                              \n",
    "    start = time.time()                                            \n",
    "    inventory.get_laptop_from_id_fast(identifier)                   \n",
    "    end = time.time()                                               \n",
    "    total_time_dict += end - start                                  \n",
    "    \n",
    "print(total_time_no_dict)                                           \n",
    "print(total_time_dict)"
   ]
  },
  {
   "cell_type": "markdown",
   "id": "27751840",
   "metadata": {},
   "source": [
    "### Analysis\n",
    "\n",
    "We got:\n",
    "\n",
    "time1 = 0.8430628776550293\n",
    "\n",
    "time2 = 0.00400233268737793\n",
    "\n",
    "We can see a significant improve in performance. If we divide time1 by time2:"
   ]
  },
  {
   "cell_type": "code",
   "execution_count": 8,
   "id": "7b40f98a",
   "metadata": {},
   "outputs": [
    {
     "name": "stdout",
     "output_type": "stream",
     "text": [
      "210.6428784178233\n"
     ]
    }
   ],
   "source": [
    "time1 = 0.8430628776550293\n",
    "\n",
    "time2 = 0.00400233268737793\n",
    "\n",
    "print(time1/time2)"
   ]
  },
  {
   "cell_type": "markdown",
   "id": "d5ff0360",
   "metadata": {},
   "source": [
    "We see that the new method is about 211 times faster for this input size."
   ]
  },
  {
   "cell_type": "markdown",
   "id": "7ae1533e",
   "metadata": {},
   "source": [
    "## Two Laptop Promotion"
   ]
  },
  {
   "cell_type": "code",
   "execution_count": 9,
   "id": "d94f5feb",
   "metadata": {},
   "outputs": [],
   "source": [
    "class Inventory():                    \n",
    "    \n",
    "    def __init__(self, csv_filename): \n",
    "        with open(csv_filename) as f: \n",
    "            reader = csv.reader(f)\n",
    "            rows = list(reader)\n",
    "        self.header = rows[0]         \n",
    "        self.rows = rows[1:]\n",
    "        for row in self.rows:\n",
    "            row[-1] = int(float(row[-1]))\n",
    "        self.id_to_row = {}                      \n",
    "        for row in self.rows:                       \n",
    "            self.id_to_row[row[0]] = row \n",
    "            \n",
    "    def get_laptop_from_id(self, laptop_id):   \n",
    "        for row in self.rows:                  \n",
    "            if row[0] == laptop_id:\n",
    "                return row\n",
    "        return None  \n",
    "    \n",
    "    def get_laptop_from_id_fast(self, laptop_id):  \n",
    "        if laptop_id in self.id_to_row:             \n",
    "            return self.id_to_row[laptop_id]\n",
    "        return None\n",
    "    \n",
    "    def check_promotion_dollars(self, dollars):    \n",
    "        for row in self.rows:                      \n",
    "            if row[-1] == dollars:\n",
    "                return True\n",
    "        for row1 in self.rows:                     \n",
    "            for row2 in self.rows:\n",
    "                if row1[-1] + row2[-1] == dollars:\n",
    "                    return True\n",
    "        return False  "
   ]
  },
  {
   "cell_type": "code",
   "execution_count": 10,
   "id": "449b3972",
   "metadata": {},
   "outputs": [
    {
     "name": "stdout",
     "output_type": "stream",
     "text": [
      "True\n",
      "False\n"
     ]
    }
   ],
   "source": [
    "inventory = Inventory('laptops.csv')               \n",
    "print(inventory.check_promotion_dollars(1000))     \n",
    "print(inventory.check_promotion_dollars(442))"
   ]
  },
  {
   "cell_type": "markdown",
   "id": "3cef0ac3",
   "metadata": {},
   "source": [
    "## Optimizing Laptop Promotion"
   ]
  },
  {
   "cell_type": "code",
   "execution_count": 11,
   "id": "5beba0c5",
   "metadata": {},
   "outputs": [],
   "source": [
    "class Inventory():                    \n",
    "    \n",
    "    def __init__(self, csv_filename): \n",
    "        with open(csv_filename) as f: \n",
    "            reader = csv.reader(f)\n",
    "            rows = list(reader)\n",
    "        self.header = rows[0]         \n",
    "        self.rows = rows[1:]\n",
    "        for row in self.rows:\n",
    "            row[-1] = int(float(row[-1]))\n",
    "        self.id_to_row = {}                      \n",
    "        for row in self.rows:                       \n",
    "            self.id_to_row[row[0]] = row\n",
    "        self.prices = set()                          \n",
    "        for row in self.rows:                        \n",
    "            self.prices.add(row[-1])\n",
    "            \n",
    "    def get_laptop_from_id(self, laptop_id):   \n",
    "        for row in self.rows:                  \n",
    "            if row[0] == laptop_id:\n",
    "                return row\n",
    "        return None  \n",
    "    \n",
    "    def get_laptop_from_id_fast(self, laptop_id):  \n",
    "        if laptop_id in self.id_to_row:             \n",
    "            return self.id_to_row[laptop_id]\n",
    "        return None\n",
    "    \n",
    "    def check_promotion_dollars(self, dollars):    \n",
    "        for row in self.rows:                      \n",
    "            if row[-1] == dollars:\n",
    "                return True\n",
    "        for row1 in self.rows:                     \n",
    "            for row2 in self.rows:\n",
    "                if row1[-1] + row2[-1] == dollars:\n",
    "                    return True\n",
    "        return False \n",
    "    \n",
    "    def check_promotion_dollars_fast(self, dollars): \n",
    "        if dollars in self.prices:                   \n",
    "            return True\n",
    "        for price in self.prices:                    \n",
    "            if dollars - price in self.prices:\n",
    "                return True\n",
    "        return False"
   ]
  },
  {
   "cell_type": "markdown",
   "id": "41b6d5d6",
   "metadata": {},
   "source": [
    "### Test the code:"
   ]
  },
  {
   "cell_type": "code",
   "execution_count": 12,
   "id": "b362546a",
   "metadata": {},
   "outputs": [
    {
     "name": "stdout",
     "output_type": "stream",
     "text": [
      "True\n",
      "False\n"
     ]
    }
   ],
   "source": [
    "inventory = Inventory('laptops.csv')                 \n",
    "print(inventory.check_promotion_dollars_fast(1000))  \n",
    "print(inventory.check_promotion_dollars_fast(442))"
   ]
  },
  {
   "cell_type": "markdown",
   "id": "45af1d88",
   "metadata": {},
   "source": [
    "## Comparing Promotion Functions"
   ]
  },
  {
   "cell_type": "code",
   "execution_count": 13,
   "id": "6c10ec43",
   "metadata": {},
   "outputs": [
    {
     "name": "stdout",
     "output_type": "stream",
     "text": [
      "0.9840719699859619\n",
      "0.0\n"
     ]
    }
   ],
   "source": [
    "prices = [random.randint(100, 5000) for _ in range(100)]\n",
    "\n",
    "inventory = Inventory('laptops.csv')                     \n",
    "\n",
    "total_time_no_set = 0                                    \n",
    "for price in prices:                                     \n",
    "    start = time.time()                                 \n",
    "    inventory.check_promotion_dollars(price)             \n",
    "    end = time.time()                                    \n",
    "    total_time_no_set += end - start                     \n",
    "    \n",
    "total_time_set = 0                                     \n",
    "for price in prices:                                     \n",
    "    start = time.time()                               \n",
    "    inventory.check_promotion_dollars_fast(price)       \n",
    "    end = time.time()                                  \n",
    "    total_time_set += end - start                        \n",
    "    \n",
    "print(total_time_no_set)                                 \n",
    "print(total_time_set)"
   ]
  },
  {
   "cell_type": "markdown",
   "id": "e4d3b55c",
   "metadata": {},
   "source": [
    "### Analysis\n",
    "\n",
    "We got:\n",
    "\n",
    "time1 = 1.396103858947754\n",
    "\n",
    "time2 = 0.001001119613647461\n",
    "\n",
    "We can see a significant improve in performance. If we divide time1 by time2:"
   ]
  },
  {
   "cell_type": "code",
   "execution_count": 14,
   "id": "71fae8f1",
   "metadata": {},
   "outputs": [
    {
     "name": "stdout",
     "output_type": "stream",
     "text": [
      "1394.5425101214576\n"
     ]
    }
   ],
   "source": [
    "time1 = 1.396103858947754\n",
    "\n",
    "time2 = 0.001001119613647461\n",
    "\n",
    "print(time1/time2)"
   ]
  },
  {
   "cell_type": "markdown",
   "id": "83dc7801",
   "metadata": {},
   "source": [
    "We see that the new method is about 1395 times faster for this input size."
   ]
  },
  {
   "cell_type": "markdown",
   "id": "8b9a288e",
   "metadata": {},
   "source": [
    "## Finding Laptops Within a Budget"
   ]
  },
  {
   "cell_type": "code",
   "execution_count": 15,
   "id": "01553fbd",
   "metadata": {},
   "outputs": [
    {
     "name": "stdout",
     "output_type": "stream",
     "text": [
      "683\n",
      "-1\n"
     ]
    }
   ],
   "source": [
    "def row_price(row):\n",
    "    return row[-1]\n",
    "\n",
    "class Inventory():                    \n",
    "    \n",
    "    def __init__(self, csv_filename): \n",
    "        with open(csv_filename) as f: \n",
    "            reader = csv.reader(f)\n",
    "            rows = list(reader)\n",
    "        self.header = rows[0]         \n",
    "        self.rows = rows[1:]\n",
    "        for row in self.rows:\n",
    "            row[-1] = int(float(row[-1]))\n",
    "        self.id_to_row = {}                      \n",
    "        for row in self.rows:                       \n",
    "            self.id_to_row[row[0]] = row\n",
    "        self.prices = set()                          \n",
    "        for row in self.rows:                        \n",
    "            self.prices.add(row[-1])\n",
    "        self.rows_by_price = sorted(self.rows, key=row_price)\n",
    "            \n",
    "    def get_laptop_from_id(self, laptop_id):   \n",
    "        for row in self.rows:                  \n",
    "            if row[0] == laptop_id:\n",
    "                return row\n",
    "        return None  \n",
    "    \n",
    "    def get_laptop_from_id_fast(self, laptop_id):  \n",
    "        if laptop_id in self.id_to_row:             \n",
    "            return self.id_to_row[laptop_id]\n",
    "        return None\n",
    "    \n",
    "    def check_promotion_dollars(self, dollars):    \n",
    "        for row in self.rows:                      \n",
    "            if row[-1] == dollars:\n",
    "                return True\n",
    "        for row1 in self.rows:                     \n",
    "            for row2 in self.rows:\n",
    "                if row1[-1] + row2[-1] == dollars:\n",
    "                    return True\n",
    "        return False \n",
    "    \n",
    "    def check_promotion_dollars_fast(self, dollars): \n",
    "        if dollars in self.prices:                   \n",
    "            return True\n",
    "        for price in self.prices:                    \n",
    "            if dollars - price in self.prices:\n",
    "                return True\n",
    "        return False\n",
    "    \n",
    "    def find_first_laptop_more_expensive(self, target_price): \n",
    "        range_start = 0                                   \n",
    "        range_end = len(self.rows_by_price) - 1                   \n",
    "        while range_start < range_end:\n",
    "            range_middle = (range_end + range_start) // 2  \n",
    "            price = self.rows_by_price[range_middle][-1]\n",
    "            if price > target_price:\n",
    "                range_end = range_middle\n",
    "            else:\n",
    "                range_start = range_middle + 1\n",
    "        if self.rows_by_price[range_start][-1] <= target_price:                  \n",
    "            return -1                                   \n",
    "        return range_start\n",
    "\n",
    "inventory = Inventory('laptops.csv')                                 \n",
    "print(inventory.find_first_laptop_more_expensive(1000))  \n",
    "print(inventory.find_first_laptop_more_expensive(10000)) "
   ]
  }
 ],
 "metadata": {
  "kernelspec": {
   "display_name": "Python 3 (ipykernel)",
   "language": "python",
   "name": "python3"
  },
  "language_info": {
   "codemirror_mode": {
    "name": "ipython",
    "version": 3
   },
   "file_extension": ".py",
   "mimetype": "text/x-python",
   "name": "python",
   "nbconvert_exporter": "python",
   "pygments_lexer": "ipython3",
   "version": "3.10.9"
  }
 },
 "nbformat": 4,
 "nbformat_minor": 5
}
